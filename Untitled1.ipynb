{
 "cells": [
  {
   "cell_type": "code",
   "execution_count": 40,
   "id": "1797f0c0-92b7-4fff-8e43-0af305c70f02",
   "metadata": {},
   "outputs": [],
   "source": [
    "from datetime import datetime"
   ]
  },
  {
   "cell_type": "code",
   "execution_count": null,
   "id": "6febea0d-a80e-4174-90d7-71744797185d",
   "metadata": {},
   "outputs": [],
   "source": [
    "# opening the file in read mode\n",
    "my_file = open(\"clearml/namesall.txt\", \"r\")\n",
    "  \n",
    "# reading the file\n",
    "data = my_file.read()\n",
    "  \n",
    "# replacing end of line('/n') with ' ' and\n",
    "# splitting the text it further when '.' is seen.\n",
    "data_into_list = data.split(\"\\n\")\n",
    "  \n",
    "# printing the data\n",
    "print(data_into_list)\n",
    "my_file.close()"
   ]
  },
  {
   "cell_type": "code",
   "execution_count": 33,
   "id": "6e837ec3-2908-4eb6-8d38-f60959680ed1",
   "metadata": {},
   "outputs": [],
   "source": [
    "import torch\n",
    "from torch.utils.data import Dataset, DataLoader, random_split"
   ]
  },
  {
   "cell_type": "code",
   "execution_count": null,
   "id": "0ea1508d-1187-4bea-85bb-8c2bca157501",
   "metadata": {},
   "outputs": [],
   "source": [
    "a=[*range(0, len(data_into_list)-1)]\n",
    "print(a)"
   ]
  },
  {
   "cell_type": "code",
   "execution_count": 38,
   "id": "c4a169c3-0d95-46cb-b8d3-4b5cc366f29e",
   "metadata": {},
   "outputs": [
    {
     "name": "stdout",
     "output_type": "stream",
     "text": [
      "tensor([    0,     1,     2,  ..., 80187, 80188, 80189])\n"
     ]
    }
   ],
   "source": [
    "b=torch.as_tensor(a)\n",
    "print(b)"
   ]
  },
  {
   "cell_type": "code",
   "execution_count": 39,
   "id": "d295d4f2-8ae7-4e70-a303-6857706fe285",
   "metadata": {},
   "outputs": [
    {
     "name": "stdout",
     "output_type": "stream",
     "text": [
      "8019\n",
      "8019\n",
      "64152\n"
     ]
    }
   ],
   "source": [
    "x=round(len(a)*0.1)\n",
    "y=round(len(a)*0.1)\n",
    "z=len(a)-x-y\n",
    "print(x)\n",
    "print(y)\n",
    "print(z)"
   ]
  },
  {
   "cell_type": "code",
   "execution_count": null,
   "id": "953fdf03-7119-4a0a-9efc-5a631f2cc60d",
   "metadata": {},
   "outputs": [],
   "source": []
  },
  {
   "cell_type": "code",
   "execution_count": 43,
   "id": "9c0bb797-5cd6-4f90-bd7b-9e6469182da7",
   "metadata": {},
   "outputs": [],
   "source": [
    "c=random_split(b, [x,y,z], generator=torch.Generator().manual_seed(int(datetime.now().timestamp())))"
   ]
  },
  {
   "cell_type": "code",
   "execution_count": 44,
   "id": "2fb58fe0-98b9-4585-ae52-f697aeb31701",
   "metadata": {},
   "outputs": [],
   "source": [
    "m = DataLoader(c[0], batch_size=1, num_workers=0, shuffle=False)\n",
    "n = DataLoader(c[1], batch_size=1, num_workers=0, shuffle=False)\n",
    "o = DataLoader(c[2], batch_size=1, num_workers=0, shuffle=False)"
   ]
  },
  {
   "cell_type": "code",
   "execution_count": 49,
   "id": "f89400a0-cfc9-4205-8e02-6ce1bd9eb175",
   "metadata": {},
   "outputs": [],
   "source": [
    "it1=iter(m)\n",
    "it2=iter(n)\n",
    "it3=iter(o)"
   ]
  },
  {
   "cell_type": "code",
   "execution_count": null,
   "id": "ca65bfb0-98ef-47f8-8f60-78d98d6da19a",
   "metadata": {},
   "outputs": [],
   "source": [
    "w1=[]\n",
    "w2=[]\n",
    "w3=[]\n",
    "s0=0;\n",
    "for w0 in it1:\n",
    "    s1=str((w0.tolist())[0])\n",
    "    s2=data_into_list[s0]\n",
    "    w1.append(s1+' '+s2+' '+'basic')\n",
    "    s0=s0+1\n",
    "s0=0;\n",
    "for w0 in it2:\n",
    "    s1=str((w0.tolist())[0])\n",
    "    s2=data_into_list[s0]\n",
    "    w2.append(s1+' '+s2+' '+'basic')\n",
    "    s0=s0+1\n",
    "s0=0;\n",
    "for w0 in it3:\n",
    "    s1=str((w0.tolist())[0])\n",
    "    s2=data_into_list[s0]\n",
    "    w3.append(s1+' '+s2+' '+'basic')\n",
    "    s0=s0+1\n",
    "print(w1)\n",
    "print(w2)\n",
    "print(w3)"
   ]
  },
  {
   "cell_type": "code",
   "execution_count": 56,
   "id": "b2dd2a84-5689-475b-8ccd-5f0dd9420b2a",
   "metadata": {},
   "outputs": [
    {
     "name": "stdout",
     "output_type": "stream",
     "text": [
      "Done\n"
     ]
    }
   ],
   "source": [
    "# open file in write mode\n",
    "varidx=0\n",
    "with open('data/im2latex_validate_filter.lst', 'w') as fp:\n",
    "    for item in w1:\n",
    "        # write each item on a new line\n",
    "        fp.write(\"%s\" % item)\n",
    "        varidx=varidx+1\n",
    "        if(varidx<len(w1)):\n",
    "            #print(varidx)\n",
    "            fp.write(\"\\n\")\n",
    "    print('Done')"
   ]
  },
  {
   "cell_type": "code",
   "execution_count": 57,
   "id": "05d2f900-0389-4155-9b1c-2f733f6aa68d",
   "metadata": {},
   "outputs": [
    {
     "name": "stdout",
     "output_type": "stream",
     "text": [
      "Done\n"
     ]
    }
   ],
   "source": [
    "# open file in write mode\n",
    "varidx=0\n",
    "with open('data/im2latex_test_filter.lst', 'w') as fp:\n",
    "    for item in w2:\n",
    "        # write each item on a new line\n",
    "        fp.write(\"%s\" % item)\n",
    "        varidx=varidx+1\n",
    "        if(varidx<len(w2)):\n",
    "            #print(varidx)\n",
    "            fp.write(\"\\n\")\n",
    "    print('Done')"
   ]
  },
  {
   "cell_type": "code",
   "execution_count": 58,
   "id": "1ff2fb21-171f-411f-ae07-e4a6a0502064",
   "metadata": {},
   "outputs": [
    {
     "name": "stdout",
     "output_type": "stream",
     "text": [
      "Done\n"
     ]
    }
   ],
   "source": [
    "# open file in write mode\n",
    "varidx=0\n",
    "with open('data/im2latex_train_filter.lst', 'w') as fp:\n",
    "    for item in w3:\n",
    "        # write each item on a new line\n",
    "        fp.write(\"%s\" % item)\n",
    "        varidx=varidx+1\n",
    "        if(varidx<len(w3)):\n",
    "            #print(varidx)\n",
    "            fp.write(\"\\n\")\n",
    "    print('Done')"
   ]
  }
 ],
 "metadata": {
  "kernelspec": {
   "display_name": "p10",
   "language": "python",
   "name": "p10"
  },
  "language_info": {
   "codemirror_mode": {
    "name": "ipython",
    "version": 3
   },
   "file_extension": ".py",
   "mimetype": "text/x-python",
   "name": "python",
   "nbconvert_exporter": "python",
   "pygments_lexer": "ipython3",
   "version": "3.10.4"
  }
 },
 "nbformat": 4,
 "nbformat_minor": 5
}
